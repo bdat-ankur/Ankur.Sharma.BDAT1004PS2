{
 "cells": [
  {
   "cell_type": "markdown",
   "id": "d6c2b14d",
   "metadata": {
    "slideshow": {
     "slide_type": "slide"
    }
   },
   "source": [
    "Solution to Problem Set 2 **BDAT1004** by **Mr. Ethan Davis** Student name: **Ankur Sharma** "
   ]
  },
  {
   "cell_type": "markdown",
   "id": "d0cc7c9e",
   "metadata": {
    "slideshow": {
     "slide_type": "slide"
    }
   },
   "source": [
    "# Question 1\n",
    "\n",
    "Question 1  \n",
    "Consider the following Python module:  \n",
    "a = 0  \n",
    "def b():  \n",
    " global a  \n",
    " a = c(a)  \n",
    "def c(a):  \n",
    " return a + 2  \n",
    "After importing the module into the interpreter, you execute:  \n",
    "'>>> b()  \n",
    "'>>> b()  \n",
    "'>>> b()  \n",
    "'>>> a  \n",
    "?  \n",
    "What value is displayed when the last expression (a) is evaluated? Explain your  \n",
    "answer by indicating what happens in every executed statement  "
   ]
  },
  {
   "cell_type": "markdown",
   "id": "d45424f1",
   "metadata": {},
   "source": [
    "# Answer 1"
   ]
  },
  {
   "cell_type": "code",
   "execution_count": 58,
   "id": "09eb66a5",
   "metadata": {},
   "outputs": [
    {
     "name": "stdout",
     "output_type": "stream",
     "text": [
      "6\n"
     ]
    }
   ],
   "source": [
    "\n",
    "a = 0\n",
    "def b():\n",
    " global a #all reference to a in b() are to the global variable a thus changing the value of a\n",
    " a = c(a) #c() is called and it returns the value  a + 2 and the value is assigned to global a thus incrementing\n",
    "def c(a):\n",
    " return a + 2 #(returns the input by incrementing it by 2)\n",
    "\n",
    "\n",
    "b() #value of global a is changed to 2  (before call a = 0 , after call a=2)\n",
    "#First call\n",
    "# a = 0\n",
    "# c(0) returns 2\n",
    "# which is assigned to a and since it is global reference changes the value of global a to 2\n",
    "b() #value of global a is changed to 4   (before call a = 2 , after call a=4)\n",
    "#Second call\n",
    "#a = 2\n",
    "# c(2) returns 4\n",
    "# which is assigned to a and since it is global reference changes the value of global a to 4\n",
    "b() #value of global a is changed to 6   (before call a =4 , after call a=6)\n",
    "#Third call\n",
    "#a = 4\n",
    "# c(4) returns 6\n",
    "# which is assigned to a and since it is global reference changes the value of global a to 6\n",
    "print(a) #(prints 6 on console)\n"
   ]
  },
  {
   "cell_type": "markdown",
   "id": "b7b0efa3",
   "metadata": {},
   "source": [
    "# Question 2\n",
    "Function fileLength(), given to you, takes the name of a file as input and returns  \n",
    "the length of the file:  \n",
    "'>>> fileLength('midterm.py')  \n",
    "284  \n",
    "'>>> fileLength('idterm.py')  \n",
    "Traceback (most recent call last):  \n",
    "File \"<pyshell#34>\", line 1, in <module>  \n",
    " fileLength('idterm.py')  \n",
    "File \"/Users/me/midterm.py\", line 3, in fileLength  \n",
    " infile = open(filename)  \n",
    "FileNotFoundError: [Errno 2] No such file or directory:   \n",
    "'idterm.py'  \n",
    "As shown above, if the file cannot be found by the interpreter or if it cannot be read   \n",
    "as a text file, an exception will be raised. Modify function fileLength() so that a   \n",
    "friendly message is printed instead:  \n",
    "'>>> fileLength('midterm.py')  \n",
    "358  \n",
    "'>>> fileLength('idterm.py')  \n",
    "File idterm.py not found.  \n"
   ]
  },
  {
   "cell_type": "markdown",
   "id": "37958692",
   "metadata": {},
   "source": [
    "# Answer 2"
   ]
  },
  {
   "cell_type": "code",
   "execution_count": 59,
   "id": "48f30ea3",
   "metadata": {},
   "outputs": [
    {
     "name": "stdout",
     "output_type": "stream",
     "text": [
      "123\n"
     ]
    }
   ],
   "source": [
    "def file_length(file_name):\n",
    "    try:  #using a try and except block for\n",
    "        file = open(file_name)\n",
    "        contents = file.read()\n",
    "        file.close()\n",
    "        print(len(contents))\n",
    "    \n",
    "    #Except block for handling FileNotFoundError\n",
    "    except FileNotFoundError:\n",
    "        print(\"{} not Found\".format(file_name))\n",
    "    # Except for handling all the other Errors/Exceptions\n",
    "    except :\n",
    "        print(\"Some Error Occured\")\n",
    "\n",
    "file_length(\"Filelength.txt\")"
   ]
  },
  {
   "cell_type": "markdown",
   "id": "bc3ad18f",
   "metadata": {},
   "source": [
    "# Question 3\n",
    "Write a class named Marsupial that can be used as shown below:  \n",
    "'>>> m = Marsupial()  \n",
    "'>>> m.put_in_pouch('doll')  \n",
    "'>>> m.put_in_pouch('firetruck')  \n",
    "'>>> m.put_in_pouch('kitten')  \n",
    "'>>> m.pouch_contents()  \n",
    "['doll', 'firetruck', 'kitten']  \n",
    "Now write a class named Kangaroo as a subclass of Marsupial that inherits all the   \n",
    "attributes of Marsupial and also:  \n",
    "a. extends the Marsupial __init__ constructor to take, as input, the   \n",
    "coordinates x and y of the Kangaroo object,  \n",
    "b. supports method jump that takes number values dx and dy as input and   \n",
    "moves the kangaroo by dx units along the x-axis and by dy units along the y\u0002axis, and  \n",
    "c. overloads the __str__ operator so it behaves as shown below.  \n",
    "'>>> k = Kangaroo(0,0)  \n",
    "'>>> print(k)\n",
    "I am a Kangaroo located at coordinates (0,0)  \n",
    "'>>> k.put_in_pouch('doll')  \n",
    "'>>> k.put_in_pouch('firetruck')  \n",
    "'>>> k.put_in_pouch('kitten')  \n",
    "'>>> k.pouch_contents()  \n",
    "['doll', 'firetruck', 'kitten']  \n",
    "'>>> k.jump(1,0)  \n",
    "'>>> k.jump(1,0)  \n",
    "'>>> k.jump(1,0)  \n",
    "'>>> print(k)  \n",
    "I am a Kangaroo located at coordinates (3,0)  \n"
   ]
  },
  {
   "cell_type": "markdown",
   "id": "9e11b25f",
   "metadata": {},
   "source": [
    "# Answer 3"
   ]
  },
  {
   "cell_type": "code",
   "execution_count": 60,
   "id": "68714bb1",
   "metadata": {},
   "outputs": [
    {
     "name": "stdout",
     "output_type": "stream",
     "text": [
      "I am a Kangaroo located at coordinates(0,0)\n",
      "['doll', 'firetruck', 'kitten']\n",
      "I am a Kangaroo located at coordinates(3,0)\n"
     ]
    }
   ],
   "source": [
    "class Marsupial:\n",
    "    #Initializing an empty list named items to store the puch contents\n",
    "    def __init__(self):\n",
    "        self.items = []\n",
    "    #adding item in pouch at the end\n",
    "    def put_in_pouch(self,item):\n",
    "        self.items.append(item)\n",
    "\n",
    "    #Displaying the contents of the pouch\n",
    "    def pouch_contents(self):\n",
    "        print(self.items[::]) #(displaying contents from start to end)\n",
    "\n",
    "\n",
    "\n",
    "# Class kangaroo inheriting fro class marsupial\n",
    "class Kangaroo(Marsupial):\n",
    "    #extending the __init constructor of Marsupial class(parent class)\n",
    "    def __init__(self,x_poisition,y_position):\n",
    "        self.items=[]\n",
    "        self.x=x_poisition\n",
    "        self.y=y_position\n",
    "\n",
    "    # overloading the __str__ operator for custom output\n",
    "    def __str__(self):\n",
    "        return str(\"I am a Kangaroo located at coordinates({},{})\".format(self.x,self.y))\n",
    "\n",
    "    # defining  and implementing method jump to mve the kangaroo by dx and dy unit in respective directions\n",
    "    def jump(self, dx, dy):\n",
    "        'change the x and y coordinates by dx and dy'\n",
    "        self.x += dx\n",
    "        self.y += dy\n",
    "\n",
    "\n",
    "\n",
    "\n",
    "k = Kangaroo(0,0)\n",
    "print(k)\n",
    "k.put_in_pouch('doll')\n",
    "k.put_in_pouch('firetruck')\n",
    "k.put_in_pouch('kitten')\n",
    "k.pouch_contents()\n",
    "k.jump(1,0)\n",
    "k.jump(1,0)\n",
    "k.jump(1,0)\n",
    "print(k)"
   ]
  },
  {
   "cell_type": "markdown",
   "id": "45fea4aa",
   "metadata": {},
   "source": [
    "# Question 4\n",
    "Write function collatz() that takes a positive integer x as input and prints the   \n",
    "Collatz sequence starting at x. A Collatz sequence is obtained by repeatedly applying   \n",
    "this rule to the previous number x in the sequence:  \n",
    "x = {  \n",
    "𝑥/2 𝑖𝑓 𝑥 𝑖𝑠 𝑒𝑣𝑒𝑛  \n",
    "3𝑥 + 1 𝑖𝑓 𝑥 𝑖𝑠 𝑜𝑑𝑑  \n",
    "Your function should stop when the sequence gets to number 1. Your   \n",
    "implementation must be recursive, without any loops.  \n",
    "collatz(1)    \n",
    "1      \n",
    "collatz(10)      \n",
    " 10     \n",
    " 5      \n",
    " 16    \n",
    " 8    \n",
    " 4    \n",
    " 2    \n",
    " 1   "
   ]
  },
  {
   "cell_type": "markdown",
   "id": "ea38230a",
   "metadata": {},
   "source": [
    "# Answer 4"
   ]
  },
  {
   "cell_type": "code",
   "execution_count": 61,
   "id": "4add0ee5",
   "metadata": {},
   "outputs": [
    {
     "name": "stdout",
     "output_type": "stream",
     "text": [
      "10\n",
      "5\n",
      "16\n",
      "8\n",
      "4\n",
      "2\n",
      "1\n"
     ]
    }
   ],
   "source": [
    "# defining the recursive method collatz\n",
    "def collatz(x):\n",
    "    print(x)\n",
    "    # breakout condition\n",
    "    if x > 1:\n",
    "        # calculation for even values\n",
    "        if x % 2 == 0:\n",
    "            collatz(int(x / 2))\n",
    "        # calculation for odd values\n",
    "        else:\n",
    "            collatz(int(3 * x + 1))\n",
    "\n",
    "\n",
    "collatz(10)"
   ]
  },
  {
   "cell_type": "markdown",
   "id": "8ccba9c9",
   "metadata": {},
   "source": [
    "# Question 5\n",
    "Write a recursive method binary() that takes a non-negative  \n",
    "integer n and prints the binary representation of integer n.   \n",
    "'>>> binary(0)    \n",
    " 0    \n",
    "'>>> binary(1)    \n",
    " 1    \n",
    "'>>> binary(3)  \n",
    " 11   \n",
    "'>>> binary(9)  \n",
    "1001  \n"
   ]
  },
  {
   "cell_type": "markdown",
   "id": "c73e23a8",
   "metadata": {},
   "source": [
    "# Answer 5"
   ]
  },
  {
   "cell_type": "code",
   "execution_count": 63,
   "id": "252331e0",
   "metadata": {},
   "outputs": [
    {
     "name": "stdout",
     "output_type": "stream",
     "text": [
      "10000\n"
     ]
    }
   ],
   "source": [
    "#defining an empty string to concatenate the binary string\n",
    "binnum=\"\"\n",
    "def binary(positiveInt):\n",
    "\n",
    "    global binnum\n",
    "    # getting the remainder\n",
    "    remainder = int(positiveInt % 2)\n",
    "    #breakout condition when number is less than two\n",
    "    if positiveInt>=2:\n",
    "        #concatenating the remainders after each division by 2\n",
    "        binnum += str(remainder)\n",
    "        #dividing the quotient to get remainders in form of 0 0r 1\n",
    "        binary(positiveInt/2)\n",
    "    #once the number is reduced to less than 2 than reversing the oreder to get the actual biinary string\n",
    "    else:\n",
    "        # appending the final remainder to compile the string\n",
    "       binnum = str(int(positiveInt)) + binnum[::-1] #(reversing the string)\n",
    "    return binnum\n",
    "\n",
    "\n",
    "print(binary(16))"
   ]
  },
  {
   "cell_type": "markdown",
   "id": "aa56e846",
   "metadata": {},
   "source": [
    "# Question 6  \n",
    "Implement a class named HeadingParser that can be used to parse an HTML   \n",
    "document, and retrieve and print all the headings in the document. You should    \n",
    "implement your class as a subclass of HTMLParser, defined in Standard Library    \n",
    "module html.parser. When fed a string containing HTML code, your class should    \n",
    "print the headings, one per line and in the order in which they appear in the   \n",
    "document. Each heading should be indented as follows: an h1 heading should have    \n",
    "indentation 0, and h2 heading should have indentation 1, etc. Test your   \n",
    "implementation using w3c.html.   \n",
    "'>>> infile = open('w3c.html')  \n",
    "'>>> content = infile.read()   \n",
    "'>>> infile.close()   \n",
    "'>>> hp = HeadingParser()   \n",
    "'>>> hp.feed(content)   \n",
    "W3C Mission    \n",
    "Principles   "
   ]
  },
  {
   "cell_type": "markdown",
   "id": "10b4e917",
   "metadata": {},
   "source": [
    "# Answer 6"
   ]
  },
  {
   "cell_type": "code",
   "execution_count": 64,
   "id": "19cc6b20",
   "metadata": {},
   "outputs": [
    {
     "name": "stdout",
     "output_type": "stream",
     "text": [
      "W3C Mission\n",
      " Principles\n"
     ]
    }
   ],
   "source": [
    "from html.parser import HTMLParser\n",
    "# creating a variable to use as a flag to print headings only\n",
    "printData = False\n",
    "\n",
    "\n",
    "class MyHTMLParser(HTMLParser):\n",
    "\n",
    "    \n",
    "    def handle_starttag(self, tag, attrs):\n",
    "        #only paarsing headings\n",
    "        if tag == 'h1' or tag == 'h2' or tag == 'h3' or tag == 'h4' or tag == 'h5' or tag == 'h6':\n",
    "            global printData\n",
    "            #setting the flag to true as a heading is encountered\n",
    "            printData = True\n",
    "            #taking the heading numerical part to use it for indentation by decrementing it by 1\n",
    "            print(\" \" * (int(tag[1]) - 1), end=\"\")\n",
    "\n",
    "    def handle_data(self, data):\n",
    "        global printData\n",
    "        #only parsing heading data\n",
    "        if printData:\n",
    "            print(data, end=\"\\n\")\n",
    "            #After reading the heading it reads the enclosed text/data between the start and end tags\n",
    "            # setting the flag to false it will be  turned to true only when a start heading tag is encountered\n",
    "            printData = False\n",
    "\n",
    "\n",
    "infile = open(\"w3c.html\")\n",
    "content = infile.read()\n",
    "infile.close()\n",
    "parser = MyHTMLParser()\n",
    "parser.feed(content)"
   ]
  },
  {
   "cell_type": "markdown",
   "id": "6b064dec",
   "metadata": {},
   "source": [
    "# Question 7\n",
    "Implement recursive function webdir() that takes as input: a URL (as a string) and   \n",
    "non-negative integers depth and indent. Your function should visit every web   \n",
    "page reachable from the starting URL web page in depth clicks or less, and print   \n",
    "each web page's URL. As shown below, indentation, specified by indent, should   \n",
    "be used to indicate the depth of a URL.   \n",
    "'>>>    \n",
    "webdir('http://reed.cs.depaul.edu/lperkovic/csc242/test1.html'   \n",
    ", 2, 0)   \n",
    "http://reed.cs.depaul.edu/lperkovic/csc242/test1.html   \n",
    " http://reed.cs.depaul.edu/lperkovic/csc242/test2.html   \n",
    " http://reed.cs.depaul.edu/lperkovic/csc242/test4.html   \n",
    " http://reed.cs.depaul.edu/lperkovic/csc242/test3.html   \n",
    " http://reed.cs.depaul.edu/lperkovic/csc242/test4.html   \n"
   ]
  },
  {
   "cell_type": "markdown",
   "id": "75d22dba",
   "metadata": {},
   "source": [
    "# Answer 7"
   ]
  },
  {
   "cell_type": "markdown",
   "id": "b9717535",
   "metadata": {},
   "source": [
    "**Not Completed**"
   ]
  },
  {
   "cell_type": "markdown",
   "id": "870ab386",
   "metadata": {},
   "source": [
    "# Question 8\n",
    "Write SQL queries on the below database table that return:   \n",
    "a) All the temperature data.   \n",
    "b) All the cities, but without repetition.   \n",
    "c) All the records for India.   \n",
    "d) All the Fall records   \n",
    "e) The city, country, and season for which the average rainfall is between 200   \n",
    "and 400 millimeters.   \n",
    "f) The city and country for which the average Fall temperature is above 20   \n",
    "degrees, in increasing temperature order.  \n",
    "g) The total annual rainfall for Cairo.   \n",
    "h) The total rainfall for each season   "
   ]
  },
  {
   "cell_type": "markdown",
   "id": "0488fee8",
   "metadata": {},
   "source": [
    "# Answer 8"
   ]
  },
  {
   "cell_type": "markdown",
   "id": "b8c6c5ed",
   "metadata": {},
   "source": [
    "**Run the Queries in the below cell**"
   ]
  },
  {
   "cell_type": "code",
   "execution_count": 65,
   "id": "6d6ff530",
   "metadata": {},
   "outputs": [
    {
     "name": "stdout",
     "output_type": "stream",
     "text": [
      " * sqlite://\n",
      "Done.\n"
     ]
    },
    {
     "data": {
      "text/html": [
       "<table>\n",
       "    <tr>\n",
       "        <th>Season</th>\n",
       "        <th>SUM(Rainfall)</th>\n",
       "    </tr>\n",
       "    <tr>\n",
       "        <td>Fall</td>\n",
       "        <td>569.0</td>\n",
       "    </tr>\n",
       "    <tr>\n",
       "        <td>Spring</td>\n",
       "        <td>192.29999999999998</td>\n",
       "    </tr>\n",
       "    <tr>\n",
       "        <td>Summer</td>\n",
       "        <td>1706.5</td>\n",
       "    </tr>\n",
       "    <tr>\n",
       "        <td>Winter</td>\n",
       "        <td>230.1</td>\n",
       "    </tr>\n",
       "</table>"
      ],
      "text/plain": [
       "[('Fall', 569.0),\n",
       " ('Spring', 192.29999999999998),\n",
       " ('Summer', 1706.5),\n",
       " ('Winter', 230.1)]"
      ]
     },
     "execution_count": 65,
     "metadata": {},
     "output_type": "execute_result"
    }
   ],
   "source": [
    "%%sql \n",
    "SELECT Season,  \n",
    "\tSUM(Rainfall)  \n",
    "\tFROM WeatherData  \n",
    "\tGROUP BY Season;   "
   ]
  },
  {
   "cell_type": "markdown",
   "id": "17a108ce",
   "metadata": {},
   "source": [
    "**Query for creating table**\n",
    "CREATE TABLE [WeatherData](  \n",
    "\t[City] [nvarchar](50) NOT NULL,  \n",
    "\t[Country] [nvarchar](50) NOT NULL,  \n",
    "\t[Season] [nchar](10) NOT NULL,  \n",
    "\t[Temprature] [numeric](18, 1) NOT NULL,  \n",
    "\t[Rainfall] [numeric](18, 1) NOT NULL  \n",
    "); \n",
    "\n",
    "or\n",
    "CREATE TABLE [WeatherData](  \n",
    "\t[City] text,  \n",
    "\t[Country] text,  \n",
    "\t[Season] text,  \n",
    "\t[Temprature] float,  \n",
    "\t[Rainfall] float\n",
    "); \n",
    "\n",
    "**query to Insert Data**  \n",
    "INSERT INTO [WeatherData]  \n",
    "           ([City]  \n",
    "           ,[Country]  \n",
    "           ,[Season]  \n",
    "           ,[Temperature]  \n",
    "           ,[Rainfall])  \n",
    "     VALUES\n",
    "           ('Mumbai'  \n",
    "           ,'India'  \n",
    "           ,'Winter'  \n",
    "           ,24.8  \n",
    "           ,5.9);  \n",
    "           \n",
    "           \n",
    "Note:Similarly we can insert data for other 11 rows"
   ]
  },
  {
   "cell_type": "markdown",
   "id": "272bbd6a",
   "metadata": {},
   "source": [
    "# Solution Queries  \n",
    "**8(a)**\tSELECT Temperature FROM WeatherData;  \n",
    "**8(b)**\tSELECT DISTINCT City FROM WeatherData;  \n",
    "**8(c)**\tSELECT * FROM WeatherData WHERE Country='India';  \n",
    "**8(d)**\tSELECT * FROM WeatherData WHERE Season='Fall';  \n",
    "**8(e)**\tSELECT City, Country, Season  \n",
    "\tFROM WeatherData  \n",
    "\tWHERE Rainfall>200 AND Rainfall<400;  \n",
    "**8(f)**\tSELECT City, Country  \n",
    "\tFROM WeatherData  \n",
    "\tWHERE Temperature>20;  \n",
    "**8(g)**\tSELECT SUM(Rainfall) AS \"Total Annual Rainfall\"  \n",
    "\tFROM WeatherData  \n",
    "\tWHERE City='Cairo';  \n",
    "**8(h)**\tSELECT Season,  \n",
    "\tSUM(Rainfall)  \n",
    "\tFROM WeatherData  \n",
    "\tGROUP BY Season;  \n",
    "  \n",
    "Note: We can Run the queries above  "
   ]
  },
  {
   "cell_type": "markdown",
   "id": "83f0178c",
   "metadata": {},
   "source": [
    "# Question 9\n",
    " Suppose list words is defined as follows:   \n",
    "'>>> words = ['The', 'quick', 'brown', 'fox', 'jumps', 'over', 'the', 'lazy', 'dog']   \n",
    "Write list comprehension expressions that use list words and generate the following    \n",
    "lists:   \n",
    "a) ['THE', 'QUICK', 'BROWN', 'FOX', 'JUMPS', 'OVER', 'THE', 'LAZY', 'DOG']   \n",
    "b) ['the', 'quick', 'brown', 'fox', 'jumps', 'over', 'the', 'lazy', 'dog']   \n",
    "c) [3, 5, 5, 3, 5, 4, 3, 4, 3] (the list of lengths of words in list words).   \n",
    "d) [['THE', 'the', 3], ['QUICK', 'quick', 5], ['BROWN', 'brown', 5], ['FOX', 'fox', 3], ['JUMPS', 'jumps', 5], ['OVER', 'over', 4], ['THE', 'the', 3], ['LAZY', 'lazy', 4], ['DOG', 'dog', 3]] (the list containing a list for every word of  list words, where each list contains the word in uppercase and lowercase and the length of the word.)   \n",
    "e) ['The', 'quick', 'brown', 'fox', 'jumps', 'over', 'the', 'lazy', 'dog'] (the list of words in list words containing 4 or more characters.)  "
   ]
  },
  {
   "cell_type": "markdown",
   "id": "12daa979",
   "metadata": {},
   "source": [
    "# Answer 9"
   ]
  },
  {
   "cell_type": "code",
   "execution_count": 66,
   "id": "a0dc5ee9",
   "metadata": {},
   "outputs": [
    {
     "name": "stdout",
     "output_type": "stream",
     "text": [
      "['THE', 'QUICK', 'BROWN', 'FOX', 'JUMPS', 'OVER', 'THE', 'LAZY', 'DOG']\n",
      "['the', 'quick', 'brown', 'fox', 'jumps', 'over', 'the', 'lazy', 'dog']\n",
      "[3, 5, 5, 3, 5, 4, 3, 4, 3]\n",
      "[['THE', 'the', 3], ['QUICK', 'quick', 5], ['BROWN', 'brown', 5], ['FOX', 'fox', 3], ['JUMPS', 'jumps', 5], ['OVER', 'over', 4], ['THE', 'the', 3], ['LAZY', 'lazy', 4], ['DOG', 'dog', 3]]\n",
      "['quick', 'brown', 'jumps', 'over', 'lazy']\n"
     ]
    }
   ],
   "source": [
    "words = ['The', 'quick', 'brown', 'fox', 'jumps', 'over', 'the', 'lazy', 'dog']\n",
    "\n",
    "# (a)\n",
    "wordsU = [x.upper() for x in words]\n",
    "print(wordsU)\n",
    "\n",
    "# (b)\n",
    "wordsL = [x.lower() for x in words]\n",
    "print(wordsL)\n",
    "\n",
    "# (c)\n",
    "list_wordCount = []\n",
    "for word in words:\n",
    "    list_wordCount.append(len(word))\n",
    "\n",
    "print(list_wordCount)\n",
    "\n",
    "# (d)\n",
    "multi_dim_word = []\n",
    "for word in words:\n",
    "    multi_dim_word.append([word.upper(), word.lower(), len(word)])\n",
    "\n",
    "print(multi_dim_word)\n",
    "\n",
    "# (e)\n",
    "list_count = []\n",
    "for word in words:\n",
    "    length = len(word)\n",
    "    if (length >= 4):\n",
    "        list_count.append(word)\n",
    "\n",
    "print(list_count);"
   ]
  }
 ],
 "metadata": {
  "kernelspec": {
   "display_name": "Python 3",
   "language": "python",
   "name": "python3"
  },
  "language_info": {
   "codemirror_mode": {
    "name": "ipython",
    "version": 3
   },
   "file_extension": ".py",
   "mimetype": "text/x-python",
   "name": "python",
   "nbconvert_exporter": "python",
   "pygments_lexer": "ipython3",
   "version": "3.8.8"
  }
 },
 "nbformat": 4,
 "nbformat_minor": 5
}
